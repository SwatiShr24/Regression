{
  "nbformat": 4,
  "nbformat_minor": 0,
  "metadata": {
    "colab": {
      "name": "Chisq_implement.ipynb",
      "provenance": [],
      "authorship_tag": "ABX9TyP7U4YhbW9tQtWqEQA39Pey",
      "include_colab_link": true
    },
    "kernelspec": {
      "name": "python3",
      "display_name": "Python 3"
    }
  },
  "cells": [
    {
      "cell_type": "markdown",
      "metadata": {
        "id": "view-in-github",
        "colab_type": "text"
      },
      "source": [
        "<a href=\"https://colab.research.google.com/github/SwatiShr24/Regression/blob/master/Chisq_implement.ipynb\" target=\"_parent\"><img src=\"https://colab.research.google.com/assets/colab-badge.svg\" alt=\"Open In Colab\"/></a>"
      ]
    },
    {
      "cell_type": "code",
      "metadata": {
        "id": "WE05W--ge70f",
        "outputId": "9e6053d6-0bf7-4b14-d2ae-b4a49219555c",
        "colab": {
          "base_uri": "https://localhost:8080/",
          "height": 53
        }
      },
      "source": [
        "from scipy.stats import chi2_contingency \n",
        "  \n",
        "# defining the table \n",
        "data = [[ 262,234,204,190,210], [220,220,220,220,220]]\n",
        "stat, p, dof, expected = chi2_contingency(data) \n",
        "  \n",
        "# interpret p-value \n",
        "alpha = 0.05\n",
        "print(\"p value is \" + str(p)) \n",
        "if p <= alpha: \n",
        "    print('Dependent (reject H0)') \n",
        "else: \n",
        "    print('Independent (H0 holds true)') "
      ],
      "execution_count": 6,
      "outputs": [
        {
          "output_type": "stream",
          "text": [
            "p value is 0.12953316432236356\n",
            "Independent (H0 holds true)\n"
          ],
          "name": "stdout"
        }
      ]
    }
  ]
}