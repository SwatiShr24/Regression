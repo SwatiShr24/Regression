{
  "nbformat": 4,
  "nbformat_minor": 0,
  "metadata": {
    "colab": {
      "name": "least sq method python.ipynb",
      "provenance": [],
      "collapsed_sections": [],
      "authorship_tag": "ABX9TyOx4gERmDG7yxmANP1EvguP",
      "include_colab_link": true
    },
    "kernelspec": {
      "name": "python3",
      "display_name": "Python 3"
    }
  },
  "cells": [
    {
      "cell_type": "markdown",
      "metadata": {
        "id": "view-in-github",
        "colab_type": "text"
      },
      "source": [
        "<a href=\"https://colab.research.google.com/github/SwatiShr24/Regression/blob/master/least_sq_method_python%20example.ipynb\" target=\"_parent\"><img src=\"https://colab.research.google.com/assets/colab-badge.svg\" alt=\"Open In Colab\"/></a>"
      ]
    },
    {
      "cell_type": "code",
      "metadata": {
        "colab": {
          "base_uri": "https://localhost:8080/"
        },
        "id": "PpPumaclyLW7",
        "outputId": "516c1b2a-426c-4a22-f65c-c56983a54e6f"
      },
      "source": [
        "import numpy as np\n",
        "X=np.array([[1,7,5],[1,3,7],[1,5,8],[1,8,1],[1,9,3],[1,5,4],[1,4,0],[1,2,6],[1,8,7],[1,6,4],[1,9,2]])\n",
        "Y=np.array([65,38,51,38,55,43,25,33,71,51,49])\n",
        "X1=X.transpose()\n",
        "X2=X1.dot(X)\n",
        "X3=np.linalg.inv(X2)\n",
        "B=X3.dot((X1.dot(Y)))\n",
        "print(B)"
      ],
      "execution_count": 3,
      "outputs": [
        {
          "output_type": "stream",
          "text": [
            "[1.75140366 4.89528836 3.75841548]\n"
          ],
          "name": "stdout"
        }
      ]
    }
  ]
}